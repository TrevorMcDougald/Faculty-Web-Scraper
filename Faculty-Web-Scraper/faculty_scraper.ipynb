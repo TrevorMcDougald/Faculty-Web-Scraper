{
 "cells": [
  {
   "cell_type": "markdown",
   "source": [
    "## IMPORTS"
   ],
   "metadata": {
    "collapsed": false,
    "pycharm": {
     "name": "#%% md\n"
    }
   }
  },
  {
   "cell_type": "code",
   "execution_count": 11,
   "outputs": [],
   "source": [
    "from os import listdir\n",
    "import os.path\n",
    "from os import walk\n",
    "import pandas as pd\n",
    "import glob2\n",
    "import re"
   ],
   "metadata": {
    "collapsed": false,
    "pycharm": {
     "name": "#%% \n",
     "is_executing": false
    }
   }
  },
  {
   "cell_type": "markdown",
   "source": [
    "#### Use Python to Create a List of All the Faculty .html files obtained"
   ],
   "metadata": {
    "collapsed": false,
    "pycharm": {
     "name": "#%% md\n"
    }
   }
  },
  {
   "cell_type": "code",
   "execution_count": 2,
   "outputs": [],
   "source": [
    "path_to_pages = r'C:\\Users\\Trevor\\Python\\Faculty-Web-Scraper\\Faculty-Web-Scraper\\Faculty-Pages\\*.html'\n",
    "faculty_html_pages = glob2.glob(path_to_pages)"
   ],
   "metadata": {
    "collapsed": false,
    "pycharm": {
     "name": "#%%\n",
     "is_executing": false
    }
   }
  },
  {
   "cell_type": "code",
   "execution_count": 13,
   "outputs": [],
   "source": [
    "name_pattern = \"(Mr\\.|Dr\\.)\\s[A-Z]\\w*\\s[A-Z]\\w*\"\n",
    "education_pattern = 'Education</h3>\\s.+\\s.+<p>(.+?)</p>'\n",
    "research_interest_pattern = 'Research Interests</h3>\\s.+\\s.+<p>(.+?)</p>'\n",
    "email_pattern = 'email\\s(.+?)\\\"' \n",
    "webpage_pattern = 'https?:\\/\\/cs.txstate.edu\\/~[\\w]+'"
   ],
   "metadata": {
    "collapsed": false,
    "pycharm": {
     "name": "#%%\n",
     "is_executing": false
    }
   }
  },
  {
   "cell_type": "code",
   "execution_count": 12,
   "outputs": [
    {
     "traceback": [
      "\u001b[1;31m---------------------------------------------------------------------------\u001b[0m",
      "\u001b[1;31mIndexError\u001b[0m                                Traceback (most recent call last)",
      "\u001b[1;32m<ipython-input-12-ea2db8290fe1>\u001b[0m in \u001b[0;36m<module>\u001b[1;34m\u001b[0m\n\u001b[0;32m      4\u001b[0m \u001b[1;33m\u001b[0m\u001b[0m\n\u001b[0;32m      5\u001b[0m \u001b[1;32mfor\u001b[0m \u001b[0mpage\u001b[0m \u001b[1;32min\u001b[0m \u001b[0mfaculty_html_pages\u001b[0m\u001b[1;33m:\u001b[0m\u001b[1;33m\u001b[0m\u001b[1;33m\u001b[0m\u001b[0m\n\u001b[1;32m----> 6\u001b[1;33m     \u001b[0minfo_file\u001b[0m \u001b[1;33m=\u001b[0m \u001b[0mos\u001b[0m\u001b[1;33m.\u001b[0m\u001b[0mpath\u001b[0m\u001b[1;33m.\u001b[0m\u001b[0msplitext\u001b[0m\u001b[1;33m(\u001b[0m\u001b[0mpage\u001b[0m\u001b[1;33m)\u001b[0m\u001b[1;33m[\u001b[0m\u001b[1;36m2\u001b[0m\u001b[1;33m]\u001b[0m\u001b[1;33m\u001b[0m\u001b[1;33m\u001b[0m\u001b[0m\n\u001b[0m\u001b[0;32m      7\u001b[0m     \u001b[0mcounter\u001b[0m\u001b[1;33m+\u001b[0m\u001b[1;36m1\u001b[0m\u001b[1;33m\u001b[0m\u001b[1;33m\u001b[0m\u001b[0m\n\u001b[0;32m      8\u001b[0m     \u001b[0mx\u001b[0m\u001b[1;33m=\u001b[0m\u001b[1;36m2\u001b[0m\u001b[1;33m\u001b[0m\u001b[1;33m\u001b[0m\u001b[0m\n",
      "\u001b[1;31mIndexError\u001b[0m: tuple index out of range"
     ],
     "ename": "IndexError",
     "evalue": "tuple index out of range",
     "output_type": "error"
    }
   ],
   "source": [
    "save_path = \"/home/trevor/Faculty-Web-Scraper/Faculty-Web-Scraper/Information\"\n",
    "info_file = []\n",
    "\n",
    "for page in faculty_html_pages:\n",
    "    info_file = str(os.path.basename(page)) + '.txt'\n",
    "    info_file_path = os.path.join(save_path, info_file)\n",
    "    faculty_info = open(info_file_path, 'wb')\n",
    "    \n",
    "    \n",
    "    faculty_page = open(page, 'r')\n",
    "    page_contents = faculty_page.read()\n",
    "    \n",
    "    name = re.search(name_pattern, page_contents)\n",
    "    education = re.search(education_pattern, page_contents)\n",
    "    research = re.search(research_interest_pattern, page_contents)\n",
    "    email = re.search(email_pattern, page_contents)\n",
    "    website = re.search(webpage_pattern, page_contents)\n",
    "    \n",
    "    if not name:\n",
    "\t    faculty_info.write(\"Name: None\\n\")\n",
    "    else:\n",
    "\t    faculty_info.write(\"Name: \" + name.group(0) + \"\\n\")\n",
    "    if not education:\n",
    "    \tfaculty_info.write(\"Education: None\\n\")\n",
    "    else: \n",
    "    \tfaculty_info.write(\"Education: \" + education.group(1) + \"\\n\")\n",
    "    \n",
    "    if not research:\n",
    "    \tfaculty_info.write(\"Research Interests: None\\n\")\n",
    "    else:\n",
    "    \tfaculty_info.write(\"Research Interests: \" + research.group(1) + \"\\n\")\n",
    "    \n",
    "    if not email:\n",
    "    \tfaculty_info.write(\"Email: None\\n\")\n",
    "    else:\n",
    "    \tfaculty_info.write(\"Email: \" + email.group(1) + \"@txstate.edu\\n\")\n",
    "    \n",
    "    if not website:\n",
    "    \tfaculty_info.write(\"Website: None\\n\")\n",
    "    else:\n",
    "    \tfaculty_info.write(\"Website: \" + website.group(0) + \"\\n\")"
   ],
   "metadata": {
    "collapsed": false,
    "pycharm": {
     "name": "#%%\n",
     "is_executing": false
    }
   }
  }
 ],
 "metadata": {
  "kernelspec": {
   "display_name": "Python 3",
   "language": "python",
   "name": "python3"
  },
  "language_info": {
   "codemirror_mode": {
    "name": "ipython",
    "version": 2
   },
   "file_extension": ".py",
   "mimetype": "text/x-python",
   "name": "python",
   "nbconvert_exporter": "python",
   "pygments_lexer": "ipython2",
   "version": "2.7.6"
  },
  "pycharm": {
   "stem_cell": {
    "cell_type": "raw",
    "source": [],
    "metadata": {
     "collapsed": false
    }
   }
  }
 },
 "nbformat": 4,
 "nbformat_minor": 0
}